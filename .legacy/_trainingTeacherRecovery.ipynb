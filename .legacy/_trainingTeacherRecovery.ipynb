{
 "cells": [
  {
   "cell_type": "markdown",
   "metadata": {},
   "source": [
    "## Recover trainingTeacher\n",
    "* Values at trainingTeacher been missed due to raw data inconsistency"
   ]
  },
  {
   "cell_type": "code",
   "execution_count": null,
   "metadata": {},
   "outputs": [],
   "source": [
    "import numpy as np\n",
    "import pandas as pd\n",
    "data=pd.read_csv(\"../data_.csv\")\n",
    "data.tail(2)"
   ]
  },
  {
   "cell_type": "code",
   "execution_count": 59,
   "metadata": {},
   "outputs": [],
   "source": [
    "data=data.drop(\"Unnamed: 0\",axis=1).sort_values(\"trainingTeacher\")"
   ]
  },
  {
   "cell_type": "code",
   "execution_count": 60,
   "metadata": {},
   "outputs": [
    {
     "data": {
      "text/plain": [
       "(1303, 18)"
      ]
     },
     "execution_count": 60,
     "metadata": {},
     "output_type": "execute_result"
    }
   ],
   "source": [
    "data.shape"
   ]
  },
  {
   "cell_type": "markdown",
   "metadata": {},
   "source": [
    "#### Get a lattice (aka boolean vector) for wrongs"
   ]
  },
  {
   "cell_type": "code",
   "execution_count": 61,
   "metadata": {},
   "outputs": [
    {
     "data": {
      "text/plain": [
       "array(['5', '5', '5', '5', '5', '5', '5', '5', '5', '5', '5', '5', '5',\n",
       "       '5', '5', '5', '5', '5', '5', '5', '5', '5', '5', '5', '5', '5',\n",
       "       '5', '5', '6', '6', '6', '6', '6', '6', '6', '6', '6', '6', '6',\n",
       "       '6', '6', '6', '6', '6', '6', '6', '7', '7', '7', '7', '7', '7',\n",
       "       '7', '7', '7', '7', '7', '7', '7', '7', '7', '7', '7', '7', '7',\n",
       "       '7', '7', '7', '7', '7', '7', '7', '7', '7', '7', '7', '8', '8',\n",
       "       '8', '8', '8', '8', '8', '8', '8', '8', '8', '8', '8', '8', '8',\n",
       "       '8', '8', '8', '8', '8', '8', '8', '8', '8', '8', '8', '8', '8',\n",
       "       '8', '8', '8', '8', '8', '8', '8', '8', '8', '8', '8', '8', '8',\n",
       "       '8', '8', '8', '8', '8', '8', '8', nan], dtype=object)"
      ]
     },
     "execution_count": 61,
     "metadata": {},
     "output_type": "execute_result"
    }
   ],
   "source": [
    "wrongTrainingTeacherLattice=data.trainingTeacher.apply(lambda q:len(q) if isinstance(q,str) else 0) < 2\n",
    "data[wrongTrainingTeacherLattice].trainingTeacher.values"
   ]
  },
  {
   "cell_type": "code",
   "execution_count": 62,
   "metadata": {},
   "outputs": [
    {
     "data": {
      "text/plain": [
       "trainingCompany  trainingSemester  trainingTeacher\n",
       "건국대학교 충주병원       3-2               7                   2\n",
       "                                   8                   2\n",
       "대구의료원            3-2               7                   4\n",
       "                                   8                   3\n",
       "대전을지대학교병원        3-2               7                   5\n",
       "                                   8                   7\n",
       "문경시보건소           3-2               5                   3\n",
       "문경제일병원           3-2               7                   6\n",
       "                                   8                   6\n",
       "상주시보건소           3-2               5                  10\n",
       "상주적십자병원          3-2               7                   2\n",
       "아산시보건소           3-2               5                  10\n",
       "안동병원             3-2               7                   3\n",
       "                                   8                   4\n",
       "안동성소병원           3-2               8                   4\n",
       "영남대학교병원          3-2               7                   4\n",
       "                                   8                   8\n",
       "충주시보건소           3-2               5                   5\n",
       "                                   6                  18\n",
       "충주의료원            3-2               7                   4\n",
       "                                   8                   2\n",
       "한도병원             3-2               8                  12\n",
       "dtype: int64"
      ]
     },
     "execution_count": 62,
     "metadata": {},
     "output_type": "execute_result"
    }
   ],
   "source": [
    "data[wrongTrainingTeacherLattice].groupby([\"trainingCompany\",\"trainingSemester\",\"trainingTeacher\"]).size()"
   ]
  },
  {
   "cell_type": "markdown",
   "metadata": {},
   "source": [
    "* Raw data (in spreadsheet files) are grouped in (trainingSemester: trainingCompany: trainingTeacher)"
   ]
  },
  {
   "cell_type": "code",
   "execution_count": 65,
   "metadata": {},
   "outputs": [],
   "source": [
    "final=pd.concat([pd.read_clipboard(),data[~wrongTrainingTeacherLattice].copy()])"
   ]
  },
  {
   "cell_type": "markdown",
   "metadata": {},
   "source": [
    "* Append corrected data"
   ]
  },
  {
   "cell_type": "code",
   "execution_count": 77,
   "metadata": {},
   "outputs": [],
   "source": [
    "final.sort_values(\"trainingSemester\")"
   ]
  }
 ],
 "metadata": {
  "kernelspec": {
   "display_name": "org",
   "language": "python",
   "name": "python3"
  },
  "language_info": {
   "codemirror_mode": {
    "name": "ipython",
    "version": 3
   },
   "file_extension": ".py",
   "mimetype": "text/x-python",
   "name": "python",
   "nbconvert_exporter": "python",
   "pygments_lexer": "ipython3",
   "version": "3.11.5"
  }
 },
 "nbformat": 4,
 "nbformat_minor": 2
}
