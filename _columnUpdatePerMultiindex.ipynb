{
 "cells": [
  {
   "cell_type": "markdown",
   "metadata": {},
   "source": [
    "#### Per-column update on multiindex: trainingGroup, trainingUnit\n",
    "* Got a new raw data (spreadsheets) for trainingSemester=='3-1'"
   ]
  },
  {
   "cell_type": "code",
   "execution_count": 2,
   "metadata": {},
   "outputs": [],
   "source": [
    "import pandas as pd"
   ]
  },
  {
   "cell_type": "code",
   "execution_count": null,
   "metadata": {},
   "outputs": [],
   "source": [
    "x=pd.read_clipboard()"
   ]
  },
  {
   "cell_type": "code",
   "execution_count": 4,
   "metadata": {},
   "outputs": [],
   "source": [
    "y=pd.read_clipboard()"
   ]
  },
  {
   "cell_type": "code",
   "execution_count": 7,
   "metadata": {},
   "outputs": [
    {
     "data": {
      "text/plain": [
       "array([ True,  True,  True,  True,  True,  True])"
      ]
     },
     "execution_count": 7,
     "metadata": {},
     "output_type": "execute_result"
    }
   ],
   "source": [
    "y.columns.isin(x.columns)"
   ]
  },
  {
   "cell_type": "code",
   "execution_count": null,
   "metadata": {},
   "outputs": [],
   "source": [
    "x=x.set_index([\"trainingSemester\",\"idx\",\"trainingSerie\"])\n",
    "y=y.set_index([\"trainingSemester\",\"idx\",\"trainingSerie\"])"
   ]
  },
  {
   "cell_type": "code",
   "execution_count": 12,
   "metadata": {},
   "outputs": [],
   "source": [
    "x.update(y,overwrite=True)"
   ]
  },
  {
   "cell_type": "code",
   "execution_count": 22,
   "metadata": {},
   "outputs": [
    {
     "data": {
      "text/html": [
       "<div>\n",
       "<style scoped>\n",
       "    .dataframe tbody tr th:only-of-type {\n",
       "        vertical-align: middle;\n",
       "    }\n",
       "\n",
       "    .dataframe tbody tr th {\n",
       "        vertical-align: top;\n",
       "    }\n",
       "\n",
       "    .dataframe thead th {\n",
       "        text-align: right;\n",
       "    }\n",
       "</style>\n",
       "<table border=\"1\" class=\"dataframe\">\n",
       "  <thead>\n",
       "    <tr style=\"text-align: right;\">\n",
       "      <th></th>\n",
       "      <th></th>\n",
       "      <th>trainingUnit</th>\n",
       "      <th>trainingGroup</th>\n",
       "    </tr>\n",
       "    <tr>\n",
       "      <th>trainingSemester</th>\n",
       "      <th>trainingCompany</th>\n",
       "      <th></th>\n",
       "      <th></th>\n",
       "    </tr>\n",
       "  </thead>\n",
       "  <tbody>\n",
       "    <tr>\n",
       "      <th rowspan=\"8\" valign=\"top\">3-1</th>\n",
       "      <th>김천제일병원</th>\n",
       "      <td>0</td>\n",
       "      <td>0</td>\n",
       "    </tr>\n",
       "    <tr>\n",
       "      <th>문경시보건소</th>\n",
       "      <td>0</td>\n",
       "      <td>0</td>\n",
       "    </tr>\n",
       "    <tr>\n",
       "      <th>산본제일병원</th>\n",
       "      <td>0</td>\n",
       "      <td>0</td>\n",
       "    </tr>\n",
       "    <tr>\n",
       "      <th>상주시보건소</th>\n",
       "      <td>0</td>\n",
       "      <td>0</td>\n",
       "    </tr>\n",
       "    <tr>\n",
       "      <th>센트럴병원</th>\n",
       "      <td>0</td>\n",
       "      <td>0</td>\n",
       "    </tr>\n",
       "    <tr>\n",
       "      <th>아산시보건소</th>\n",
       "      <td>0</td>\n",
       "      <td>0</td>\n",
       "    </tr>\n",
       "    <tr>\n",
       "      <th>예천군보건소</th>\n",
       "      <td>0</td>\n",
       "      <td>0</td>\n",
       "    </tr>\n",
       "    <tr>\n",
       "      <th>해피아이병원</th>\n",
       "      <td>0</td>\n",
       "      <td>0</td>\n",
       "    </tr>\n",
       "    <tr>\n",
       "      <th rowspan=\"3\" valign=\"top\">3-2</th>\n",
       "      <th>문경시보건소</th>\n",
       "      <td>0</td>\n",
       "      <td>31</td>\n",
       "    </tr>\n",
       "    <tr>\n",
       "      <th>상주시보건소</th>\n",
       "      <td>0</td>\n",
       "      <td>10</td>\n",
       "    </tr>\n",
       "    <tr>\n",
       "      <th>아산시보건소</th>\n",
       "      <td>0</td>\n",
       "      <td>10</td>\n",
       "    </tr>\n",
       "  </tbody>\n",
       "</table>\n",
       "</div>"
      ],
      "text/plain": [
       "                                  trainingUnit  trainingGroup\n",
       "trainingSemester trainingCompany                             \n",
       "3-1              김천제일병원                      0              0\n",
       "                 문경시보건소                      0              0\n",
       "                 산본제일병원                      0              0\n",
       "                 상주시보건소                      0              0\n",
       "                 센트럴병원                       0              0\n",
       "                 아산시보건소                      0              0\n",
       "                 예천군보건소                      0              0\n",
       "                 해피아이병원                      0              0\n",
       "3-2              문경시보건소                      0             31\n",
       "                 상주시보건소                      0             10\n",
       "                 아산시보건소                      0             10"
      ]
     },
     "execution_count": 22,
     "metadata": {},
     "output_type": "execute_result"
    }
   ],
   "source": [
    "x.groupby([\"trainingSemester\",\"trainingCompany\"])[[\"trainingUnit\",\"trainingGroup\"]].count().query(\"trainingUnit==0\")"
   ]
  },
  {
   "cell_type": "markdown",
   "metadata": {},
   "source": [
    "#### Boolean indexing upon nan-containing columns"
   ]
  },
  {
   "cell_type": "code",
   "execution_count": 33,
   "metadata": {},
   "outputs": [],
   "source": [
    "x.loc[\n",
    "    (x.trainingSemester==\"3-1\")*(x.trainingClass.apply(lambda q:q.__contains__(\"리학실습\") if isinstance(q,str) else False)),\"trainingClass\"\n",
    "]=\"지역사회간호학실습\""
   ]
  },
  {
   "cell_type": "markdown",
   "metadata": {},
   "source": [
    "* This is for in-placing values"
   ]
  },
  {
   "cell_type": "markdown",
   "metadata": {},
   "source": [
    "#### Dict-table based merging or updating"
   ]
  },
  {
   "cell_type": "code",
   "execution_count": 26,
   "metadata": {},
   "outputs": [
    {
     "data": {
      "text/html": [
       "<div>\n",
       "<style scoped>\n",
       "    .dataframe tbody tr th:only-of-type {\n",
       "        vertical-align: middle;\n",
       "    }\n",
       "\n",
       "    .dataframe tbody tr th {\n",
       "        vertical-align: top;\n",
       "    }\n",
       "\n",
       "    .dataframe thead th {\n",
       "        text-align: right;\n",
       "    }\n",
       "</style>\n",
       "<table border=\"1\" class=\"dataframe\">\n",
       "  <thead>\n",
       "    <tr style=\"text-align: right;\">\n",
       "      <th></th>\n",
       "      <th></th>\n",
       "      <th>trainingClassTo</th>\n",
       "      <th>trainingClassYear</th>\n",
       "      <th>trainingClassCredit</th>\n",
       "      <th>trainingClassCreditMoney</th>\n",
       "    </tr>\n",
       "    <tr>\n",
       "      <th>trainingSemester</th>\n",
       "      <th>trainingClass</th>\n",
       "      <th></th>\n",
       "      <th></th>\n",
       "      <th></th>\n",
       "      <th></th>\n",
       "    </tr>\n",
       "  </thead>\n",
       "  <tbody>\n",
       "    <tr>\n",
       "      <th>3-1.5</th>\n",
       "      <th>여성건강간호학실습</th>\n",
       "      <td>여성건강간호학실습</td>\n",
       "      <td>4</td>\n",
       "      <td>3</td>\n",
       "      <td>9</td>\n",
       "    </tr>\n",
       "    <tr>\n",
       "      <th>3-2</th>\n",
       "      <th>아동간호학실습</th>\n",
       "      <td>아동간호학실습</td>\n",
       "      <td>3</td>\n",
       "      <td>3</td>\n",
       "      <td>9</td>\n",
       "    </tr>\n",
       "    <tr>\n",
       "      <th>4-1</th>\n",
       "      <th>성인간호학실습</th>\n",
       "      <td>성인간호학실습3</td>\n",
       "      <td>4</td>\n",
       "      <td>2</td>\n",
       "      <td>6</td>\n",
       "    </tr>\n",
       "  </tbody>\n",
       "</table>\n",
       "</div>"
      ],
      "text/plain": [
       "                               trainingClassTo  trainingClassYear  \\\n",
       "trainingSemester trainingClass                                      \n",
       "3-1.5            여성건강간호학실습           여성건강간호학실습                  4   \n",
       "3-2              아동간호학실습               아동간호학실습                  3   \n",
       "4-1              성인간호학실습              성인간호학실습3                  4   \n",
       "\n",
       "                                trainingClassCredit  trainingClassCreditMoney  \n",
       "trainingSemester trainingClass                                                 \n",
       "3-1.5            여성건강간호학실습                        3                         9  \n",
       "3-2              아동간호학실습                          3                         9  \n",
       "4-1              성인간호학실습                          2                         6  "
      ]
     },
     "execution_count": 26,
     "metadata": {},
     "output_type": "execute_result"
    }
   ],
   "source": [
    "dictTable=pd.read_clipboard().set_index([\"trainingSemester\",\"trainingClass\"])\n",
    "dictTable.sample(3)"
   ]
  },
  {
   "cell_type": "code",
   "execution_count": 34,
   "metadata": {},
   "outputs": [],
   "source": [
    "x=x.set_index(dictTable.index.names)"
   ]
  },
  {
   "cell_type": "code",
   "execution_count": 45,
   "metadata": {},
   "outputs": [],
   "source": [
    "final=x.drop(\n",
    "    [\n",
    "        \"trainingClassTo\",\n",
    "        \"trainingClassYear\",\n",
    "        \"trainingClassCredit\",\n",
    "        \"trainingClassCreditMoney\"\n",
    "    ],axis=1\n",
    ").join(dictTable).reset_index()"
   ]
  },
  {
   "cell_type": "code",
   "execution_count": 47,
   "metadata": {},
   "outputs": [],
   "source": [
    "final.loc[:,\"trainingClass\"]=final.trainingClassTo.copy()\n",
    "final.drop(\"trainingClassTo\",axis=1).to_csv(\"c:/code/data.csv\",index=0)"
   ]
  }
 ],
 "metadata": {
  "kernelspec": {
   "display_name": "org",
   "language": "python",
   "name": "python3"
  },
  "language_info": {
   "codemirror_mode": {
    "name": "ipython",
    "version": 3
   },
   "file_extension": ".py",
   "mimetype": "text/x-python",
   "name": "python",
   "nbconvert_exporter": "python",
   "pygments_lexer": "ipython3",
   "version": "3.11.5"
  }
 },
 "nbformat": 4,
 "nbformat_minor": 2
}
