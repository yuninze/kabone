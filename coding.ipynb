{
 "cells": [
  {
   "cell_type": "markdown",
   "metadata": {},
   "source": [
    "### Coding Data for Deidentification"
   ]
  },
  {
   "cell_type": "code",
   "execution_count": 144,
   "metadata": {},
   "outputs": [],
   "source": [
    "import itertools\n",
    "import random\n",
    "import pandas as pd"
   ]
  },
  {
   "cell_type": "code",
   "execution_count": 145,
   "metadata": {},
   "outputs": [
    {
     "name": "stdout",
     "output_type": "stream",
     "text": [
      "<class 'pandas.core.frame.DataFrame'>\n",
      "Index: 1304 entries, 0 to 875\n",
      "Data columns (total 14 columns):\n",
      " #   Column                     Non-Null Count  Dtype \n",
      "---  ------                     --------------  ----- \n",
      " 0   idx                        1304 non-null   int64 \n",
      " 1   trainingSemester           1303 non-null   object\n",
      " 2   trainingSerie              1304 non-null   object\n",
      " 3   trainingClass              1304 non-null   object\n",
      " 4   trainingCompany            1304 non-null   object\n",
      " 5   trainingPeriod             1304 non-null   object\n",
      " 6   name                       1304 non-null   object\n",
      " 7   klass                      1158 non-null   object\n",
      " 8   trainingTeacher            1302 non-null   object\n",
      " 9   trainingUnit               951 non-null    object\n",
      " 10  address                    1304 non-null   object\n",
      " 11  registerProblem            1304 non-null   bool  \n",
      " 12  contact                    854 non-null    object\n",
      " 13  isFulltimeTrainingTeacher  1304 non-null   bool  \n",
      "dtypes: bool(2), int64(1), object(11)\n",
      "memory usage: 135.0+ KB\n"
     ]
    },
    {
     "data": {
      "text/plain": [
       "array(['3-1', '3-1.5', '3-2', '3-2.5', '4-1', '4-1.5', nan], dtype=object)"
      ]
     },
     "execution_count": 145,
     "metadata": {},
     "output_type": "execute_result"
    }
   ],
   "source": [
    "groundtruth=pd.read_csv(\"c:/code/groundtruth.csv\").iloc[:,1:]\n",
    "groundtruth=groundtruth.sort_values(\"trainingSemester\")\n",
    "groundtruth.info()\n",
    "groundtruth.trainingSemester.unique()"
   ]
  },
  {
   "cell_type": "code",
   "execution_count": 146,
   "metadata": {},
   "outputs": [],
   "source": [
    "objectColumns=[\"idx\",\"name\",\"trainingClass\",\"trainingCompany\",\"trainingUnit\",\"trainingTeacher\",\"address\",\"contact\"]"
   ]
  },
  {
   "cell_type": "code",
   "execution_count": 147,
   "metadata": {},
   "outputs": [],
   "source": [
    "char=list(set(itertools.chain.from_iterable(\n",
    "    [\"\".join(w) for w in [groundtruth[q].astype(str).unique() for q in objectColumns]]\n",
    ")))\n",
    "sieveNumber=random.sample(range(len(char)),k=len(char))\n",
    "charMix=[char[q] for q in sieveNumber]"
   ]
  },
  {
   "cell_type": "code",
   "execution_count": 148,
   "metadata": {},
   "outputs": [],
   "source": [
    "if (len(char)==len(charMix)) + (len(char)==len(sieveNumber)) < 2:\n",
    "    raise Exception()"
   ]
  },
  {
   "cell_type": "code",
   "execution_count": 149,
   "metadata": {},
   "outputs": [],
   "source": [
    "charMap=dict(zip(char,charMix))\n",
    "charMapData=pd.DataFrame({\"char\":char,\"charMix\":charMix})\n",
    "charMapData.to_csv(\"c:/code/charMapData.csv\",encoding=\"utf-8\")"
   ]
  },
  {
   "cell_type": "code",
   "execution_count": 150,
   "metadata": {},
   "outputs": [
    {
     "data": {
      "text/html": [
       "<div>\n",
       "<style scoped>\n",
       "    .dataframe tbody tr th:only-of-type {\n",
       "        vertical-align: middle;\n",
       "    }\n",
       "\n",
       "    .dataframe tbody tr th {\n",
       "        vertical-align: top;\n",
       "    }\n",
       "\n",
       "    .dataframe thead th {\n",
       "        text-align: right;\n",
       "    }\n",
       "</style>\n",
       "<table border=\"1\" class=\"dataframe\">\n",
       "  <thead>\n",
       "    <tr style=\"text-align: right;\">\n",
       "      <th></th>\n",
       "      <th>name</th>\n",
       "      <th>trainingClass</th>\n",
       "      <th>trainingCompany</th>\n",
       "      <th>trainingUnit</th>\n",
       "      <th>trainingTeacher</th>\n",
       "      <th>address</th>\n",
       "      <th>contact</th>\n",
       "    </tr>\n",
       "  </thead>\n",
       "  <tbody>\n",
       "    <tr>\n",
       "      <th>728</th>\n",
       "      <td>을심혈</td>\n",
       "      <td>심울아위통충학근별</td>\n",
       "      <td>민시병숙0언</td>\n",
       "      <td>NaN</td>\n",
       "      <td>늘1앙</td>\n",
       "      <td>시신</td>\n",
       "      <td>급환급습종허종종습허급급정</td>\n",
       "    </tr>\n",
       "    <tr>\n",
       "      <th>669</th>\n",
       "      <td>다제E</td>\n",
       "      <td>현엘통충학근별</td>\n",
       "      <td>산래현언우혈</td>\n",
       "      <td>협화</td>\n",
       "      <td>금</td>\n",
       "      <td>시신</td>\n",
       "      <td>급환급습맹구맹한습허구정구</td>\n",
       "    </tr>\n",
       "    <tr>\n",
       "      <th>373</th>\n",
       "      <td>향분시</td>\n",
       "      <td>적새통충학근별</td>\n",
       "      <td>료외우혈</td>\n",
       "      <td>허</td>\n",
       "      <td>미유앙</td>\n",
       "      <td>시신</td>\n",
       "      <td>급환급습금허금정습정화맹화</td>\n",
       "    </tr>\n",
       "    <tr>\n",
       "      <th>887</th>\n",
       "      <td>미간임</td>\n",
       "      <td>통충권빈학근별</td>\n",
       "      <td>공담하뇨혈</td>\n",
       "      <td>충M윤M소N3</td>\n",
       "      <td>을욱서</td>\n",
       "      <td>시명</td>\n",
       "      <td>NaN</td>\n",
       "    </tr>\n",
       "    <tr>\n",
       "      <th>1299</th>\n",
       "      <td>을연서</td>\n",
       "      <td>7재통충학근별</td>\n",
       "      <td>시선하뇨혈</td>\n",
       "      <td>국권환한실찬소백새시K두</td>\n",
       "      <td>B현태</td>\n",
       "      <td>시명</td>\n",
       "      <td>NaN</td>\n",
       "    </tr>\n",
       "    <tr>\n",
       "      <th>525</th>\n",
       "      <td>드연육</td>\n",
       "      <td>심울아위통충학근별</td>\n",
       "      <td>신앙병숙0언</td>\n",
       "      <td>NaN</td>\n",
       "      <td>한</td>\n",
       "      <td>시명</td>\n",
       "      <td>급환급습구화맹맹습환허금정</td>\n",
       "    </tr>\n",
       "    <tr>\n",
       "      <th>364</th>\n",
       "      <td>층스유</td>\n",
       "      <td>적새통충학근별</td>\n",
       "      <td>민시채뇌우혈</td>\n",
       "      <td>금맹</td>\n",
       "      <td>B욱앙</td>\n",
       "      <td>시신</td>\n",
       "      <td>급환급습정금급허습종종정환</td>\n",
       "    </tr>\n",
       "    <tr>\n",
       "      <th>530</th>\n",
       "      <td>임자유</td>\n",
       "      <td>심울아위통충학근별</td>\n",
       "      <td>민시병숙0언</td>\n",
       "      <td>NaN</td>\n",
       "      <td>늘1앙</td>\n",
       "      <td>시명</td>\n",
       "      <td>급환급습종환허금습금맹종급</td>\n",
       "    </tr>\n",
       "    <tr>\n",
       "      <th>849</th>\n",
       "      <td>민피연</td>\n",
       "      <td>반현06통충학근별</td>\n",
       "      <td>산래우혈</td>\n",
       "      <td>화정래권</td>\n",
       "      <td>택피심</td>\n",
       "      <td>시신</td>\n",
       "      <td>급환급습정한정급습맹환급금</td>\n",
       "    </tr>\n",
       "    <tr>\n",
       "      <th>72</th>\n",
       "      <td>앙대암</td>\n",
       "      <td>리래통충학근별</td>\n",
       "      <td>N매경우혈</td>\n",
       "      <td>NaN</td>\n",
       "      <td>늘선박</td>\n",
       "      <td>시명</td>\n",
       "      <td>급환급습금허맹맹습정환종맹</td>\n",
       "    </tr>\n",
       "  </tbody>\n",
       "</table>\n",
       "</div>"
      ],
      "text/plain": [
       "     name trainingClass trainingCompany  trainingUnit trainingTeacher address  \\\n",
       "728   을심혈     심울아위통충학근별          민시병숙0언           NaN             늘1앙      시신   \n",
       "669   다제E       현엘통충학근별          산래현언우혈            협화               금      시신   \n",
       "373   향분시       적새통충학근별            료외우혈             허             미유앙      시신   \n",
       "887   미간임       통충권빈학근별           공담하뇨혈       충M윤M소N3             을욱서      시명   \n",
       "1299  을연서       7재통충학근별           시선하뇨혈  국권환한실찬소백새시K두             B현태      시명   \n",
       "525   드연육     심울아위통충학근별          신앙병숙0언           NaN               한      시명   \n",
       "364   층스유       적새통충학근별          민시채뇌우혈            금맹             B욱앙      시신   \n",
       "530   임자유     심울아위통충학근별          민시병숙0언           NaN             늘1앙      시명   \n",
       "849   민피연     반현06통충학근별            산래우혈          화정래권             택피심      시신   \n",
       "72    앙대암       리래통충학근별           N매경우혈           NaN             늘선박      시명   \n",
       "\n",
       "            contact  \n",
       "728   급환급습종허종종습허급급정  \n",
       "669   급환급습맹구맹한습허구정구  \n",
       "373   급환급습금허금정습정화맹화  \n",
       "887             NaN  \n",
       "1299            NaN  \n",
       "525   급환급습구화맹맹습환허금정  \n",
       "364   급환급습정금급허습종종정환  \n",
       "530   급환급습종환허금습금맹종급  \n",
       "849   급환급습정한정급습맹환급금  \n",
       "72    급환급습금허맹맹습정환종맹  "
      ]
     },
     "execution_count": 150,
     "metadata": {},
     "output_type": "execute_result"
    }
   ],
   "source": [
    "tx=groundtruth[objectColumns].map(lambda q:\"\".join([charMap[w] for w in list(str(q))]) if isinstance(q,(str,int)) else q)\n",
    "tx.sample(10)"
   ]
  },
  {
   "cell_type": "code",
   "execution_count": 151,
   "metadata": {},
   "outputs": [],
   "source": [
    "charMapInverse=dict(zip(charMap.values(),charMap.keys()))"
   ]
  },
  {
   "cell_type": "code",
   "execution_count": null,
   "metadata": {},
   "outputs": [],
   "source": [
    "tx.map(lambda q:\"\".join([charMapInverse[w] for w in list(str(q))]) if isinstance(q,(str,int)) else q)"
   ]
  },
  {
   "cell_type": "markdown",
   "metadata": {},
   "source": [
    "### Above to Method\n",
    "* Applicable to a column with object (aka str) values"
   ]
  },
  {
   "cell_type": "code",
   "execution_count": null,
   "metadata": {},
   "outputs": [],
   "source": [
    "class trainingData:\n",
    "    def __init__(self,data,\n",
    "        objectColumns=[\n",
    "            \"idx\",\"name\",\"trainingClass\",\"trainingCompany\",\"trainingUnit\",\"trainingTeacher\",\"address\",\"contact\"\n",
    "        ],\n",
    "        charMapData=False\n",
    "    ):\n",
    "        self.data=data\n",
    "        self.cols=objectColumns\n",
    "        self.encoded=None\n",
    "\n",
    "        if charMapData:\n",
    "            self.charMapData=pd.read_csv(charMapData)\n",
    "            self.getCharMap()\n",
    "            self.encoded=True\n",
    "        else:\n",
    "            self.charMapData=None        \n",
    "            self.charMap=None\n",
    "            self.charMapInverse=None\n",
    "            self.sieve=None\n",
    "        return \n",
    "    \n",
    "    def getCharMap(self):\n",
    "        if self.encoded==False:\n",
    "            charIn=list(set(itertools.chain.from_iterable(\n",
    "                [\"\".join(w) for w in [self.data[q].astype(str).unique() for q in self.cols]]\n",
    "            )))\n",
    "            sieve=random.sample(range(len(charIn)),k=len(charIn))\n",
    "            charOut=[charIn[q] for q in sieve]\n",
    "\n",
    "            if (len(charIn)==len(charOut)) + (len(charIn)==len(sieve)) < 2:\n",
    "                raise Exception(\"Char numbers are unmatching\")\n",
    "\n",
    "            self.charMapData=pd.DataFrame(\n",
    "                {\"charIn\":charIn,\"charOut\":charOut,\"sieve\":sieve})\n",
    "        \n",
    "        self.charMap=dict(zip(self.charMapData.charIn,self.charMapData.charOut))\n",
    "        self.charMapInverse=dict(zip(self.charMap.values(),self.charMap.keys()))\n",
    "        self.sieve=self.charMapData.sieve.tolist()\n",
    "        return \n",
    "    \n",
    "    def saveCharMapData(self):\n",
    "        self.charMapData.to_csv(\"c:/code/charMapData.csv\",encoding=\"utf-8\",index=0)\n",
    "        return\n",
    "    \n",
    "    def _code(self,direction):\n",
    "        if direction==\"in\" and self.encoded:\n",
    "            raise Exception(\"Data already been encoded.\")\n",
    "        if direction==\"out\" and self.encoded==False:\n",
    "            raise Exception(\"This isn't encoded data.\")\n",
    "\n",
    "        if direction==\"out\":\n",
    "            sieve=self.charMap\n",
    "        elif direction==\"in\":\n",
    "            sieve=self.charMapInverse\n",
    "        else:\n",
    "            raise Exception(f\"Unknown direction {direction}\")\n",
    "\n",
    "        if sieve is None:\n",
    "            raise Exception(\"Run getCharMap first.\")\n",
    "        \n",
    "        self.data.loc[:,self.cols]=self.data.loc[:,self.cols].map(\n",
    "            lambda w:\"\".join([sieve[q] for q in list(str(w))]) if isinstance(w,(str,int)) else w\n",
    "        )\n",
    "\n",
    "        self.encoded=True if direction==\"in\" else False\n",
    "        return \n",
    "    \n",
    "    def encode(self):\n",
    "        return self._code(direction=\"in\")\n",
    "    \n",
    "    def decode(self):\n",
    "        return self._code(direction=\"out\")"
   ]
  }
 ],
 "metadata": {
  "kernelspec": {
   "display_name": "org",
   "language": "python",
   "name": "python3"
  },
  "language_info": {
   "codemirror_mode": {
    "name": "ipython",
    "version": 3
   },
   "file_extension": ".py",
   "mimetype": "text/x-python",
   "name": "python",
   "nbconvert_exporter": "python",
   "pygments_lexer": "ipython3",
   "version": "3.11.5"
  }
 },
 "nbformat": 4,
 "nbformat_minor": 2
}
