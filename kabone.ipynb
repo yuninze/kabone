{
 "cells": [
  {
   "cell_type": "markdown",
   "metadata": {},
   "source": [
    "# Johnnie Worker"
   ]
  },
  {
   "cell_type": "code",
   "execution_count": 50,
   "metadata": {},
   "outputs": [],
   "source": [
    "from coding import *"
   ]
  },
  {
   "cell_type": "code",
   "execution_count": 51,
   "metadata": {},
   "outputs": [
    {
     "name": "stdout",
     "output_type": "stream",
     "text": [
      "<class 'pandas.core.frame.DataFrame'>\n",
      "RangeIndex: 1448 entries, 0 to 1447\n",
      "Data columns (total 29 columns):\n",
      " #   Column                    Non-Null Count  Dtype \n",
      "---  ------                    --------------  ----- \n",
      " 0   idx                       1448 non-null   int64 \n",
      " 1   trainingSemester          1448 non-null   object\n",
      " 2   trainingClass             1448 non-null   object\n",
      " 3   trainingSerie             1448 non-null   object\n",
      " 4   trainingGroup             1448 non-null   object\n",
      " 5   trainingCompany           1448 non-null   object\n",
      " 6   trainingPeriod            1448 non-null   object\n",
      " 7   name                      1448 non-null   object\n",
      " 8   registerProblem           1448 non-null   object\n",
      " 9   trainingTeacher           1448 non-null   object\n",
      " 10  trainingUnit              1448 non-null   object\n",
      " 11  trainingLeader            1448 non-null   object\n",
      " 12  trainingLeaderDepartment  1448 non-null   object\n",
      " 13  trainingLeaderPosition    1448 non-null   object\n",
      " 14  trainingLeaderDegree      1448 non-null   object\n",
      " 15  trainingLeaderRn          1448 non-null   object\n",
      " 16  trainingLeaderExperience  1448 non-null   object\n",
      " 17  trainingClassYear         1448 non-null   int64 \n",
      " 18  trainingClassCredit       1448 non-null   int64 \n",
      " 19  trainingClassCreditMoney  1448 non-null   int64 \n",
      " 20  trainingTeacherReal       1448 non-null   bool  \n",
      " 21  address                   1448 non-null   object\n",
      " 22  contact                   1448 non-null   object\n",
      " 23  klass                     1448 non-null   object\n",
      " 24  enc                       1448 non-null   bool  \n",
      " 25  dormUsed                  1448 non-null   object\n",
      " 26  bank                      1448 non-null   object\n",
      " 27  bankAccount               1448 non-null   object\n",
      " 28  bankAccountName           1448 non-null   object\n",
      "dtypes: bool(2), int64(4), object(23)\n",
      "memory usage: 308.4+ KB\n"
     ]
    }
   ],
   "source": [
    "x_=pd.read_csv(\"c:/code/x.csv\")\n",
    "x_.info()"
   ]
  },
  {
   "cell_type": "code",
   "execution_count": 52,
   "metadata": {},
   "outputs": [
    {
     "name": "stdout",
     "output_type": "stream",
     "text": [
      "<class 'pandas.core.frame.DataFrame'>\n",
      "Index: 1304 entries, 0 to 1446\n",
      "Data columns (total 19 columns):\n",
      " #   Column                  Non-Null Count  Dtype  \n",
      "---  ------                  --------------  -----  \n",
      " 0   학번                      1304 non-null   int64  \n",
      " 1   성명                      1304 non-null   object \n",
      " 2   성별                      0 non-null      float64\n",
      " 3   학년                      1304 non-null   int64  \n",
      " 4   학기상세                    1304 non-null   object \n",
      " 5   연도                      1304 non-null   object \n",
      " 6   학기                      1304 non-null   object \n",
      " 7   교과목명                    1304 non-null   object \n",
      " 8   학점                      1304 non-null   int64  \n",
      " 9   시수                      1304 non-null   int64  \n",
      " 10  과목명\n",
      "학년\n",
      "(학점x시수x주수=실습시간)  1304 non-null   object \n",
      " 11  실습기관명                   1304 non-null   object \n",
      " 12  실습병동(진료과)               1304 non-null   object \n",
      " 13  교과목 담당교원(전임)            1005 non-null   object \n",
      " 14  교과목 담당교원(비전임)           299 non-null    object \n",
      " 15  교원구분                    1304 non-null   object \n",
      " 16  실습단위                    1304 non-null   object \n",
      " 17  실습일자                    1304 non-null   object \n",
      " 18  실습숙소사용                  1304 non-null   object \n",
      "dtypes: float64(1), int64(4), object(14)\n",
      "memory usage: 203.8+ KB\n"
     ]
    }
   ],
   "source": [
    "x=kabone(x_)\n",
    "x.info()"
   ]
  },
  {
   "cell_type": "code",
   "execution_count": 53,
   "metadata": {},
   "outputs": [],
   "source": [
    "x=x.iloc[:,[5,6,10,11,12,13,14]]"
   ]
  },
  {
   "cell_type": "code",
   "execution_count": 54,
   "metadata": {},
   "outputs": [
    {
     "data": {
      "text/plain": [
       "True"
      ]
     },
     "execution_count": 54,
     "metadata": {},
     "output_type": "execute_result"
    }
   ],
   "source": [
    "trGroupUnitIndices=[\"trainingSemester\",\"trainingClass\",\"trainingCompany\",\"trainingUnit\"]\n",
    "trGroupUnit=x_.query(\"trainingSemester!='3-2.5-2023'\").groupby(trGroupUnitIndices).trainingGroup.transform(\"nunique\").rename(\"trGroupUnit\")\n",
    "trGroupUnit.shape[0]==1304"
   ]
  },
  {
   "cell_type": "code",
   "execution_count": 55,
   "metadata": {},
   "outputs": [
    {
     "data": {
      "text/plain": [
       "True"
      ]
     },
     "execution_count": 55,
     "metadata": {},
     "output_type": "execute_result"
    }
   ],
   "source": [
    "trIdxCountPerUnit=x_.query(\"trainingSemester!='3-2.5-2023'\").groupby(trGroupUnitIndices).idx.transform(\"nunique\").rename(\"trIdxCountPerUnit\")\n",
    "len(trIdxCountPerUnit)==1304"
   ]
  },
  {
   "cell_type": "code",
   "execution_count": 56,
   "metadata": {},
   "outputs": [
    {
     "data": {
      "text/plain": [
       "True"
      ]
     },
     "execution_count": 56,
     "metadata": {},
     "output_type": "execute_result"
    }
   ],
   "source": [
    "trPeriod=x_.query(\"~(trainingSemester.str.contains('3-2.5-2023'))\").trainingPeriod\n",
    "trPeriod.shape[0]==1304"
   ]
  },
  {
   "cell_type": "code",
   "execution_count": 57,
   "metadata": {},
   "outputs": [
    {
     "name": "stdout",
     "output_type": "stream",
     "text": [
      "<class 'pandas.core.frame.DataFrame'>\n",
      "Index: 1304 entries, 0 to 1446\n",
      "Data columns (total 10 columns):\n",
      " #   Column                  Non-Null Count  Dtype \n",
      "---  ------                  --------------  ----- \n",
      " 0   연도                      1304 non-null   object\n",
      " 1   학기                      1304 non-null   object\n",
      " 2   과목명\n",
      "학년\n",
      "(학점x시수x주수=실습시간)  1304 non-null   object\n",
      " 3   실습기관명                   1304 non-null   object\n",
      " 4   실습병동(진료과)               1304 non-null   object\n",
      " 5   교과목 담당교원(전임)            1005 non-null   object\n",
      " 6   교과목 담당교원(비전임)           299 non-null    object\n",
      " 7   trGroupUnit             1304 non-null   int64 \n",
      " 8   trIdxCountPerUnit       1304 non-null   int64 \n",
      " 9   trainingPeriod          1304 non-null   object\n",
      "dtypes: int64(2), object(8)\n",
      "memory usage: 112.1+ KB\n"
     ]
    }
   ],
   "source": [
    "final_=pd.concat([x,trGroupUnit,trIdxCountPerUnit,trPeriod],axis=1)\n",
    "final_.info()"
   ]
  },
  {
   "cell_type": "code",
   "execution_count": 58,
   "metadata": {},
   "outputs": [
    {
     "name": "stdout",
     "output_type": "stream",
     "text": [
      "<class 'pandas.core.frame.DataFrame'>\n",
      "Index: 624 entries, 507 to 612\n",
      "Data columns (total 11 columns):\n",
      " #   Column                  Non-Null Count  Dtype  \n",
      "---  ------                  --------------  -----  \n",
      " 0   연도                      624 non-null    object \n",
      " 1   학기                      624 non-null    object \n",
      " 2   과목명\n",
      "학년\n",
      "(학점x시수x주수=실습시간)  624 non-null    object \n",
      " 3   실습기관명                   624 non-null    object \n",
      " 4   실습병동(진료과)               624 non-null    object \n",
      " 5   교과목 담당교원(전임)            493 non-null    object \n",
      " 6   교과목 담당교원(비전임)           131 non-null    object \n",
      " 7   trGroupUnit             624 non-null    int64  \n",
      " 8   trIdxCountPerUnit       624 non-null    int64  \n",
      " 9   trainingPeriod          624 non-null    object \n",
      " 10  gye                     0 non-null      float64\n",
      "dtypes: float64(1), int64(2), object(8)\n",
      "memory usage: 58.5+ KB\n"
     ]
    }
   ],
   "source": [
    "final=final_.drop_duplicates().sort_values(list(final_.columns[:-2])).assign(gye=np.nan)\n",
    "final.info()"
   ]
  },
  {
   "cell_type": "markdown",
   "metadata": {},
   "source": [
    "## Validation"
   ]
  },
  {
   "cell_type": "code",
   "execution_count": 59,
   "metadata": {},
   "outputs": [
    {
     "data": {
      "text/html": [
       "<div>\n",
       "<style scoped>\n",
       "    .dataframe tbody tr th:only-of-type {\n",
       "        vertical-align: middle;\n",
       "    }\n",
       "\n",
       "    .dataframe tbody tr th {\n",
       "        vertical-align: top;\n",
       "    }\n",
       "\n",
       "    .dataframe thead th {\n",
       "        text-align: right;\n",
       "    }\n",
       "</style>\n",
       "<table border=\"1\" class=\"dataframe\">\n",
       "  <thead>\n",
       "    <tr style=\"text-align: right;\">\n",
       "      <th></th>\n",
       "      <th>연도</th>\n",
       "      <th>학기</th>\n",
       "      <th>과목명\\n학년\\n(학점x시수x주수=실습시간)</th>\n",
       "      <th>실습기관명</th>\n",
       "      <th>실습병동(진료과)</th>\n",
       "      <th>교과목 담당교원(전임)</th>\n",
       "      <th>교과목 담당교원(비전임)</th>\n",
       "      <th>trGroupUnit</th>\n",
       "      <th>trIdxCountPerUnit</th>\n",
       "      <th>trainingPeriod</th>\n",
       "      <th>gye</th>\n",
       "    </tr>\n",
       "  </thead>\n",
       "  <tbody>\n",
       "    <tr>\n",
       "      <th>768</th>\n",
       "      <td>2023</td>\n",
       "      <td>2</td>\n",
       "      <td>성인간호학실습2\\n(3학년)\\n81</td>\n",
       "      <td>대전을지대학교병원</td>\n",
       "      <td>15B(소화기내과)</td>\n",
       "      <td>김진</td>\n",
       "      <td>NaN</td>\n",
       "      <td>1</td>\n",
       "      <td>6</td>\n",
       "      <td>2023. 11. 06. ~ 2023. 11. 24.</td>\n",
       "      <td>NaN</td>\n",
       "    </tr>\n",
       "    <tr>\n",
       "      <th>750</th>\n",
       "      <td>2023</td>\n",
       "      <td>2</td>\n",
       "      <td>성인간호학실습2\\n(3학년)\\n81</td>\n",
       "      <td>대전을지대학교병원</td>\n",
       "      <td>10A(정형외과)</td>\n",
       "      <td>김진</td>\n",
       "      <td>NaN</td>\n",
       "      <td>1</td>\n",
       "      <td>6</td>\n",
       "      <td>2023. 11. 27. ~ 2023. 12. 15.</td>\n",
       "      <td>NaN</td>\n",
       "    </tr>\n",
       "  </tbody>\n",
       "</table>\n",
       "</div>"
      ],
      "text/plain": [
       "       연도 학기 과목명\\n학년\\n(학점x시수x주수=실습시간)      실습기관명   실습병동(진료과) 교과목 담당교원(전임)  \\\n",
       "768  2023  2      성인간호학실습2\\n(3학년)\\n81  대전을지대학교병원  15B(소화기내과)           김진   \n",
       "750  2023  2      성인간호학실습2\\n(3학년)\\n81  대전을지대학교병원   10A(정형외과)           김진   \n",
       "\n",
       "    교과목 담당교원(비전임)  trGroupUnit  trIdxCountPerUnit  \\\n",
       "768           NaN            1                  6   \n",
       "750           NaN            1                  6   \n",
       "\n",
       "                    trainingPeriod  gye  \n",
       "768  2023. 11. 06. ~ 2023. 11. 24.  NaN  \n",
       "750  2023. 11. 27. ~ 2023. 12. 15.  NaN  "
      ]
     },
     "execution_count": 59,
     "metadata": {},
     "output_type": "execute_result"
    }
   ],
   "source": [
    "final.iloc[[379,378]]"
   ]
  },
  {
   "cell_type": "code",
   "execution_count": 60,
   "metadata": {},
   "outputs": [
    {
     "name": "stdout",
     "output_type": "stream",
     "text": [
      "kotae.trainingClass.unique()=array(['성인간호학실습2'], dtype=object)\n",
      "kotae.trainingUnit.unique()=array(['10A', '15B'], dtype=object)\n",
      "kotae.trainingPeriod.unique()=array(['2023. 11. 06. ~ 2023. 11. 24.', '2023. 11. 27. ~ 2023. 12. 15.'],\n",
      "      dtype=object)\n",
      "kotae.groupby('trainingUnit').idx.nunique()=trainingUnit\n",
      "10A    6\n",
      "15B    6\n",
      "Name: idx, dtype: int64\n"
     ]
    }
   ],
   "source": [
    "kotae=x_.query(\"(trainingSemester=='3-2.0-2023') & (trainingCompany.str.contains('대전을',na=False))\")\n",
    "print(f\"{kotae.trainingClass.unique()=}\\n{kotae.trainingUnit.unique()=}\\n{kotae.trainingPeriod.unique()=}\\n{kotae.groupby('trainingUnit').idx.nunique()=}\")"
   ]
  },
  {
   "cell_type": "markdown",
   "metadata": {},
   "source": [
    "* trGroupUnit은 많이 나오는 경우가 없음: 보통 1개 trainingGroup이 1개 trainingUnit 감"
   ]
  }
 ],
 "metadata": {
  "kernelspec": {
   "display_name": "org",
   "language": "python",
   "name": "python3"
  },
  "language_info": {
   "codemirror_mode": {
    "name": "ipython",
    "version": 3
   },
   "file_extension": ".py",
   "mimetype": "text/x-python",
   "name": "python",
   "nbconvert_exporter": "python",
   "pygments_lexer": "ipython3",
   "version": "3.11.5"
  }
 },
 "nbformat": 4,
 "nbformat_minor": 2
}
